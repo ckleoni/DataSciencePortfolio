{
 "cells": [
  {
   "cell_type": "markdown",
   "metadata": {},
   "source": [
    "# Worldwide Earthquake Forecaster"
   ]
  },
  {
   "cell_type": "markdown",
   "metadata": {},
   "source": [
    "This notebook includes:\n",
    "* Exploratory data analysis of earthquake dataset\n",
    "* Applying geo-based and rapid mapping techniques\n",
    "* Applying feature engineering and aggregation techniques\n",
    "* Fitting XG Boost model to predict likelihood of earthquakes at future dates"
   ]
  },
  {
   "cell_type": "code",
   "execution_count": null,
   "metadata": {},
   "outputs": [],
   "source": [
    "import numpy as np  \n",
    "import pandas as pd  \n",
    "from sklearn import preprocessing;\n",
    "from sklearn import model_selection;\n",
    "from sklearn import linear_model;\n",
    "import os\n",
    "import datetime as dt\n",
    "import matplotlib.pyplot as plt\n",
    "import warnings\n",
    "warnings.filterwarnings('ignore')"
   ]
  },
  {
   "cell_type": "code",
   "execution_count": 2,
   "metadata": {},
   "outputs": [],
   "source": [
    "df = pd.read_csv('https://earthquake.usgs.gov/earthquakes/feed/v1.0/summary/all_month.csv')"
   ]
  },
  {
   "cell_type": "code",
   "execution_count": 3,
   "metadata": {},
   "outputs": [
    {
     "data": {
      "text/html": [
       "<div>\n",
       "<style scoped>\n",
       "    .dataframe tbody tr th:only-of-type {\n",
       "        vertical-align: middle;\n",
       "    }\n",
       "\n",
       "    .dataframe tbody tr th {\n",
       "        vertical-align: top;\n",
       "    }\n",
       "\n",
       "    .dataframe thead th {\n",
       "        text-align: right;\n",
       "    }\n",
       "</style>\n",
       "<table border=\"1\" class=\"dataframe\">\n",
       "  <thead>\n",
       "    <tr style=\"text-align: right;\">\n",
       "      <th></th>\n",
       "      <th>time</th>\n",
       "      <th>latitude</th>\n",
       "      <th>longitude</th>\n",
       "      <th>depth</th>\n",
       "      <th>mag</th>\n",
       "      <th>magType</th>\n",
       "      <th>nst</th>\n",
       "      <th>gap</th>\n",
       "      <th>dmin</th>\n",
       "      <th>rms</th>\n",
       "      <th>...</th>\n",
       "      <th>updated</th>\n",
       "      <th>place</th>\n",
       "      <th>type</th>\n",
       "      <th>horizontalError</th>\n",
       "      <th>depthError</th>\n",
       "      <th>magError</th>\n",
       "      <th>magNst</th>\n",
       "      <th>status</th>\n",
       "      <th>locationSource</th>\n",
       "      <th>magSource</th>\n",
       "    </tr>\n",
       "  </thead>\n",
       "  <tbody>\n",
       "    <tr>\n",
       "      <th>0</th>\n",
       "      <td>2020-02-26T22:14:02.200Z</td>\n",
       "      <td>38.564167</td>\n",
       "      <td>-122.287666</td>\n",
       "      <td>2.860000</td>\n",
       "      <td>1.94</td>\n",
       "      <td>md</td>\n",
       "      <td>11.0</td>\n",
       "      <td>101.000000</td>\n",
       "      <td>0.028850</td>\n",
       "      <td>0.090000</td>\n",
       "      <td>...</td>\n",
       "      <td>2020-02-26T22:15:36.357Z</td>\n",
       "      <td>14km E of Angwin, CA</td>\n",
       "      <td>earthquake</td>\n",
       "      <td>0.580000</td>\n",
       "      <td>1.350000</td>\n",
       "      <td>0.280</td>\n",
       "      <td>9.0</td>\n",
       "      <td>automatic</td>\n",
       "      <td>nc</td>\n",
       "      <td>nc</td>\n",
       "    </tr>\n",
       "    <tr>\n",
       "      <th>1</th>\n",
       "      <td>2020-02-26T22:12:06.275Z</td>\n",
       "      <td>34.994251</td>\n",
       "      <td>-97.812881</td>\n",
       "      <td>4.744703</td>\n",
       "      <td>1.99</td>\n",
       "      <td>ml</td>\n",
       "      <td>17.0</td>\n",
       "      <td>68.506142</td>\n",
       "      <td>0.061553</td>\n",
       "      <td>0.601049</td>\n",
       "      <td>...</td>\n",
       "      <td>2020-02-26T22:13:38.762Z</td>\n",
       "      <td>11km ENE of Ninnekah, Oklahoma</td>\n",
       "      <td>earthquake</td>\n",
       "      <td>3.100692</td>\n",
       "      <td>2.402325</td>\n",
       "      <td>NaN</td>\n",
       "      <td>9.0</td>\n",
       "      <td>automatic</td>\n",
       "      <td>ok</td>\n",
       "      <td>ok</td>\n",
       "    </tr>\n",
       "    <tr>\n",
       "      <th>2</th>\n",
       "      <td>2020-02-26T21:58:21.440Z</td>\n",
       "      <td>35.893333</td>\n",
       "      <td>-117.731333</td>\n",
       "      <td>10.570000</td>\n",
       "      <td>0.70</td>\n",
       "      <td>ml</td>\n",
       "      <td>11.0</td>\n",
       "      <td>61.000000</td>\n",
       "      <td>0.085340</td>\n",
       "      <td>0.060000</td>\n",
       "      <td>...</td>\n",
       "      <td>2020-02-26T22:01:49.589Z</td>\n",
       "      <td>16km ESE of Little Lake, CA</td>\n",
       "      <td>earthquake</td>\n",
       "      <td>0.180000</td>\n",
       "      <td>0.470000</td>\n",
       "      <td>0.165</td>\n",
       "      <td>6.0</td>\n",
       "      <td>automatic</td>\n",
       "      <td>ci</td>\n",
       "      <td>ci</td>\n",
       "    </tr>\n",
       "    <tr>\n",
       "      <th>3</th>\n",
       "      <td>2020-02-26T21:48:03.809Z</td>\n",
       "      <td>38.131500</td>\n",
       "      <td>-118.397600</td>\n",
       "      <td>4.000000</td>\n",
       "      <td>1.70</td>\n",
       "      <td>ml</td>\n",
       "      <td>8.0</td>\n",
       "      <td>88.320000</td>\n",
       "      <td>0.147000</td>\n",
       "      <td>0.172100</td>\n",
       "      <td>...</td>\n",
       "      <td>2020-02-26T22:12:15.816Z</td>\n",
       "      <td>47km SSE of Hawthorne, Nevada</td>\n",
       "      <td>earthquake</td>\n",
       "      <td>NaN</td>\n",
       "      <td>6.600000</td>\n",
       "      <td>0.120</td>\n",
       "      <td>5.0</td>\n",
       "      <td>reviewed</td>\n",
       "      <td>nn</td>\n",
       "      <td>nn</td>\n",
       "    </tr>\n",
       "    <tr>\n",
       "      <th>4</th>\n",
       "      <td>2020-02-26T21:46:18.180Z</td>\n",
       "      <td>38.565166</td>\n",
       "      <td>-122.284332</td>\n",
       "      <td>3.160000</td>\n",
       "      <td>2.02</td>\n",
       "      <td>md</td>\n",
       "      <td>7.0</td>\n",
       "      <td>101.000000</td>\n",
       "      <td>0.026070</td>\n",
       "      <td>0.080000</td>\n",
       "      <td>...</td>\n",
       "      <td>2020-02-26T22:00:12.119Z</td>\n",
       "      <td>14km E of Angwin, CA</td>\n",
       "      <td>earthquake</td>\n",
       "      <td>0.570000</td>\n",
       "      <td>1.150000</td>\n",
       "      <td>0.110</td>\n",
       "      <td>10.0</td>\n",
       "      <td>automatic</td>\n",
       "      <td>nc</td>\n",
       "      <td>nc</td>\n",
       "    </tr>\n",
       "  </tbody>\n",
       "</table>\n",
       "<p>5 rows × 22 columns</p>\n",
       "</div>"
      ],
      "text/plain": [
       "                       time   latitude   longitude      depth   mag magType  \\\n",
       "0  2020-02-26T22:14:02.200Z  38.564167 -122.287666   2.860000  1.94      md   \n",
       "1  2020-02-26T22:12:06.275Z  34.994251  -97.812881   4.744703  1.99      ml   \n",
       "2  2020-02-26T21:58:21.440Z  35.893333 -117.731333  10.570000  0.70      ml   \n",
       "3  2020-02-26T21:48:03.809Z  38.131500 -118.397600   4.000000  1.70      ml   \n",
       "4  2020-02-26T21:46:18.180Z  38.565166 -122.284332   3.160000  2.02      md   \n",
       "\n",
       "    nst         gap      dmin       rms  ...                   updated  \\\n",
       "0  11.0  101.000000  0.028850  0.090000  ...  2020-02-26T22:15:36.357Z   \n",
       "1  17.0   68.506142  0.061553  0.601049  ...  2020-02-26T22:13:38.762Z   \n",
       "2  11.0   61.000000  0.085340  0.060000  ...  2020-02-26T22:01:49.589Z   \n",
       "3   8.0   88.320000  0.147000  0.172100  ...  2020-02-26T22:12:15.816Z   \n",
       "4   7.0  101.000000  0.026070  0.080000  ...  2020-02-26T22:00:12.119Z   \n",
       "\n",
       "                            place        type horizontalError depthError  \\\n",
       "0            14km E of Angwin, CA  earthquake        0.580000   1.350000   \n",
       "1  11km ENE of Ninnekah, Oklahoma  earthquake        3.100692   2.402325   \n",
       "2     16km ESE of Little Lake, CA  earthquake        0.180000   0.470000   \n",
       "3   47km SSE of Hawthorne, Nevada  earthquake             NaN   6.600000   \n",
       "4            14km E of Angwin, CA  earthquake        0.570000   1.150000   \n",
       "\n",
       "   magError  magNst     status  locationSource magSource  \n",
       "0     0.280     9.0  automatic              nc        nc  \n",
       "1       NaN     9.0  automatic              ok        ok  \n",
       "2     0.165     6.0  automatic              ci        ci  \n",
       "3     0.120     5.0   reviewed              nn        nn  \n",
       "4     0.110    10.0  automatic              nc        nc  \n",
       "\n",
       "[5 rows x 22 columns]"
      ]
     },
     "execution_count": 3,
     "metadata": {},
     "output_type": "execute_result"
    }
   ],
   "source": [
    "df.head()"
   ]
  },
  {
   "cell_type": "code",
   "execution_count": 4,
   "metadata": {},
   "outputs": [
    {
     "data": {
      "image/png": "[encoded data removed]",
      "text/plain": [
       "<Figure size 1080x576 with 1 Axes>"
      ]
     },
     "metadata": {
      "needs_background": "light"
     },
     "output_type": "display_data"
    }
   ],
   "source": [
    "rounding_factor = 10\n",
    "fig, ax = plt.subplots(figsize=(15,8))\n",
    "plt.plot(np.round(df['longitude'].head(10000),rounding_factor), \n",
    "         np.round(df['latitude'].head(10000),rounding_factor),\n",
    "         linestyle='none', marker='.')\n",
    "plt.suptitle('Earthquakes from ' + str(np.min(df['time']))[:10] + ' to ' + str(np.max(df['time']))[:10])\n",
    "plt.xlabel('Longitude')\n",
    "plt.ylabel('Latitude')\n",
    "plt.show()"
   ]
  },
  {
   "cell_type": "code",
   "execution_count": 5,
   "metadata": {},
   "outputs": [
    {
     "name": "stdout",
     "output_type": "stream",
     "text": [
      "total locations: 111\n"
     ]
    },
    {
     "data": {
      "text/html": [
       "<div>\n",
       "<style scoped>\n",
       "    .dataframe tbody tr th:only-of-type {\n",
       "        vertical-align: middle;\n",
       "    }\n",
       "\n",
       "    .dataframe tbody tr th {\n",
       "        vertical-align: top;\n",
       "    }\n",
       "\n",
       "    .dataframe thead th {\n",
       "        text-align: right;\n",
       "    }\n",
       "</style>\n",
       "<table border=\"1\" class=\"dataframe\">\n",
       "  <thead>\n",
       "    <tr style=\"text-align: right;\">\n",
       "      <th></th>\n",
       "      <th>date</th>\n",
       "      <th>depth</th>\n",
       "      <th>mag</th>\n",
       "      <th>place</th>\n",
       "      <th>latitude</th>\n",
       "      <th>longitude</th>\n",
       "    </tr>\n",
       "  </thead>\n",
       "  <tbody>\n",
       "    <tr>\n",
       "      <th>0</th>\n",
       "      <td>2020-01-27</td>\n",
       "      <td>9.19</td>\n",
       "      <td>1.71</td>\n",
       "      <td>CA</td>\n",
       "      <td>36.255844</td>\n",
       "      <td>-119.01318</td>\n",
       "    </tr>\n",
       "    <tr>\n",
       "      <th>1</th>\n",
       "      <td>2020-01-27</td>\n",
       "      <td>4.32</td>\n",
       "      <td>1.55</td>\n",
       "      <td>CA</td>\n",
       "      <td>36.255844</td>\n",
       "      <td>-119.01318</td>\n",
       "    </tr>\n",
       "    <tr>\n",
       "      <th>2</th>\n",
       "      <td>2020-01-27</td>\n",
       "      <td>4.28</td>\n",
       "      <td>1.41</td>\n",
       "      <td>CA</td>\n",
       "      <td>36.255844</td>\n",
       "      <td>-119.01318</td>\n",
       "    </tr>\n",
       "    <tr>\n",
       "      <th>3</th>\n",
       "      <td>2020-01-27</td>\n",
       "      <td>0.77</td>\n",
       "      <td>0.65</td>\n",
       "      <td>CA</td>\n",
       "      <td>36.255844</td>\n",
       "      <td>-119.01318</td>\n",
       "    </tr>\n",
       "    <tr>\n",
       "      <th>4</th>\n",
       "      <td>2020-01-27</td>\n",
       "      <td>8.66</td>\n",
       "      <td>0.94</td>\n",
       "      <td>CA</td>\n",
       "      <td>36.255844</td>\n",
       "      <td>-119.01318</td>\n",
       "    </tr>\n",
       "  </tbody>\n",
       "</table>\n",
       "</div>"
      ],
      "text/plain": [
       "         date  depth   mag place   latitude  longitude\n",
       "0  2020-01-27   9.19  1.71    CA  36.255844 -119.01318\n",
       "1  2020-01-27   4.32  1.55    CA  36.255844 -119.01318\n",
       "2  2020-01-27   4.28  1.41    CA  36.255844 -119.01318\n",
       "3  2020-01-27   0.77  0.65    CA  36.255844 -119.01318\n",
       "4  2020-01-27   8.66  0.94    CA  36.255844 -119.01318"
      ]
     },
     "execution_count": 5,
     "metadata": {},
     "output_type": "execute_result"
    }
   ],
   "source": [
    "df = df.sort_values('time', ascending=True)\n",
    "df['date'] = df['time'].str[0:10]\n",
    "# only keep the columns needed\n",
    "df = df[['date', 'latitude', 'longitude', 'depth', 'mag', 'place']]\n",
    "# df['date'] = df['time'].str.split(', ', expand=True) \n",
    "newdf = df['place'].str.split(', ', expand=True) \n",
    "df['place'] = newdf[1]\n",
    "df = df[['date', 'latitude', 'longitude', 'depth', 'mag', 'place']]\n",
    "\n",
    "print('total locations:',len(set(df['place'])))\n",
    "\n",
    "# calculate mean lat lon for simplified locations\n",
    "df_coords = df[['place', 'latitude', 'longitude']]\n",
    "df_coords = df_coords.groupby(['place'], as_index=False).mean()\n",
    "df_coords = df_coords[['place', 'latitude', 'longitude']]\n",
    "\n",
    "df = df[['date', 'depth', 'mag', 'place']]\n",
    "df = pd.merge(left=df, right=df_coords, how='inner', on=['place'])\n",
    "df.head()"
   ]
  },
  {
   "cell_type": "code",
   "execution_count": 6,
   "metadata": {},
   "outputs": [
    {
     "name": "stdout",
     "output_type": "stream",
     "text": [
      "{'Fiji', 'Romania', 'Puerto Rico', 'Papua New Guinea', 'South Korea', 'Nevada', 'Sakha', 'South Georgia and the South Sandwich Islands', 'India', 'Tajikistan', 'Wyoming', 'Dominica', 'Trinidad and Tobago', 'Azerbaijan', 'New Zealand', 'Morocco', 'Bosnia and Herzegovina', 'Bolivia', 'Guam', 'Iran', 'New Caledonia', 'Saudi Arabia', 'South Africa', 'Cayman Islands', 'Arkansas', 'Ecuador', 'Croatia', 'Washington', 'U.S. Virgin Islands', 'Tennessee', 'Alabama', 'CA', 'Mexico', 'South Sandwich Islands', 'Uganda', 'Idaho', 'Costa Rica', 'Wallis and Futuna', 'Texas', 'Panama', 'Australia', 'Peru', 'Burma', 'Colorado', 'Montana', 'Alaska', 'Japan region', 'Dominican Republic', 'Tanzania', 'Israel', 'Chile', 'Bangladesh', 'Pennsylvania', 'Svalbard and Jan Mayen', 'Greece', 'Georgia', 'NV', 'Missouri', 'Italy', 'Indonesia', 'North Carolina', 'East Timor', 'Tonga', 'California', 'Oregon', 'China', 'Pakistan', 'Jamaica', 'Canada', 'Kansas', 'B.C.', 'Argentina', 'Greenland', 'British Virgin Islands', 'Afghanistan', 'Guadeloupe', 'Northern Mariana Islands', 'Taiwan', 'France', 'Turkmenistan', 'Utah', 'Yemen', 'Colombia', 'Mongolia', 'Nicaragua', 'Guatemala', 'Vermont', 'Maine', 'Philippines', 'New Hampshire', 'Turkey', 'Iraq', 'Arizona', 'New Mexico', 'Kyrgyzstan', 'Hawaii', 'Venezuela', 'Albania', 'Portugal', 'Maldives', 'Japan', 'Oklahoma', 'Russia', 'Vanuatu', 'Bouvet Island', 'Virginia', 'Solomon Islands', 'El Salvador', 'Algeria', 'Honduras'}\n"
     ]
    }
   ],
   "source": [
    "print(set(df['place']))"
   ]
  },
  {
   "cell_type": "code",
   "execution_count": 7,
   "metadata": {},
   "outputs": [],
   "source": [
    "eq_tmp = df.copy()\n",
    "\n",
    "DAYS_OUT_TO_PREDICT = 5\n",
    "\n",
    "# loop through each zone and apply MA\n",
    "eq_data = []\n",
    "eq_data_last_days_out = []\n",
    "for place in list(set(eq_tmp['place'])):\n",
    "    temp_df = eq_tmp[eq_tmp['place'] == place].copy()\n",
    "    temp_df['depth_avg_20'] = temp_df['depth'].rolling(window=20,center=False).mean() \n",
    "    temp_df['depth_avg_10'] = temp_df['depth'].rolling(window=10,center=False).mean()\n",
    "    temp_df['depth_avg_5'] = temp_df['depth'].rolling(window=5,center=False).mean()\n",
    "    temp_df['mag_avg_20'] = temp_df['mag'].rolling(window=20,center=False).mean() \n",
    "    temp_df['mag_avg_10'] = temp_df['mag'].rolling(window=10,center=False).mean()\n",
    "    temp_df['mag_avg_5'] = temp_df['mag'].rolling(window=5,center=False).mean()\n",
    "    temp_df.loc[:, 'mag_outcome'] = temp_df.loc[:, 'mag_avg_5'].shift(DAYS_OUT_TO_PREDICT * -1)\n",
    "\n",
    "    eq_data_last_days_out.append(temp_df.tail(DAYS_OUT_TO_PREDICT))\n",
    "\n",
    "    eq_data.append(temp_df)\n",
    "\n",
    "# concat all location-based dataframes into master dataframe\n",
    "import pandas as pd\n",
    "eq_all = pd.concat(eq_data)\n",
    "\n",
    "# remove any NaN fields\n",
    "eq_all = eq_all[np.isfinite(eq_all['depth_avg_20'])]\n",
    "eq_all = eq_all[np.isfinite(eq_all['mag_avg_20'])]\n",
    "eq_all = eq_all[np.isfinite(eq_all['mag_outcome'])]"
   ]
  },
  {
   "cell_type": "code",
   "execution_count": 8,
   "metadata": {},
   "outputs": [
    {
     "data": {
      "image/png": "[encoded data removed]",
      "text/plain": [
       "<Figure size 432x288 with 1 Axes>"
      ]
     },
     "metadata": {
      "needs_background": "light"
     },
     "output_type": "display_data"
    }
   ],
   "source": [
    "plt.plot(eq_all['longitude'], \n",
    "         eq_all['latitude'],\n",
    "         linestyle='none', marker='.')\n",
    "plt.suptitle('Historical Earthquakes with Aggregated Longitude And Latitude')\n",
    "plt.xlabel('Longitude')\n",
    "plt.ylabel('Latitude')\n",
    "plt.grid()\n",
    "plt.show()"
   ]
  },
  {
   "cell_type": "code",
   "execution_count": 9,
   "metadata": {},
   "outputs": [],
   "source": [
    "# keep our live data for predictions\n",
    "eq_data_last_days_out = pd.concat(eq_data_last_days_out)\n",
    "eq_data_last_days_out = eq_data_last_days_out[np.isfinite(eq_data_last_days_out['mag_avg_20'])]"
   ]
  },
  {
   "cell_type": "code",
   "execution_count": 10,
   "metadata": {},
   "outputs": [
    {
     "name": "stdout",
     "output_type": "stream",
     "text": [
      "count    10289.000000\n",
      "mean         0.112061\n",
      "std          0.315457\n",
      "min          0.000000\n",
      "25%          0.000000\n",
      "50%          0.000000\n",
      "75%          0.000000\n",
      "max          1.000000\n",
      "Name: mag_outcome, dtype: float64\n"
     ]
    }
   ],
   "source": [
    "eq_all['mag_outcome'] = np.where(eq_all['mag_outcome'] > 2.5, 1,0)\n",
    "print(eq_all['mag_outcome'].describe())"
   ]
  },
  {
   "cell_type": "code",
   "execution_count": 11,
   "metadata": {},
   "outputs": [
    {
     "name": "stdout",
     "output_type": "stream",
     "text": [
      "AUC: 0.99\n"
     ]
    }
   ],
   "source": [
    "import xgboost as xgb\n",
    "from sklearn.model_selection import train_test_split\n",
    "features = [f for f in list(eq_all) if f not in ['date', 'lon_box_mean',\n",
    " 'lat_box_mean', 'mag_outcome', 'mag', 'place',\n",
    " 'combo_box_mean',  'latitude',\n",
    " 'longitude']]\n",
    "\n",
    "X_train, X_test, y_train, y_test = train_test_split(eq_all[features],\n",
    "                     eq_all['mag_outcome'], test_size=0.3, random_state=42)\n",
    "  \n",
    "dtrain = xgb.DMatrix(X_train[features], label=y_train)\n",
    "dtest = xgb.DMatrix(X_test[features], label=y_test)\n",
    "\n",
    "param = {\n",
    "        'objective': 'binary:logistic',\n",
    "        'booster': 'gbtree',\n",
    "        'eval_metric': 'auc',\n",
    "        'max_depth': 3,  # the maximum depth of each tree\n",
    "        'eta': 0.1,  # the training step for each iteration\n",
    "        'silent': 1}  # logging mode - quiet}  # the number of classes that exist in this datset\n",
    "\n",
    "num_round = 500  # the number of training iterations    \n",
    "early_stopping_rounds=30\n",
    "bst = xgb.train(param, dtrain, num_round) #, early_stopping_rounds=early_stopping_rounds)\n",
    " \n",
    "preds = bst.predict(dtest)\n",
    "np.mean(preds)\n",
    "from sklearn.metrics import precision_score\n",
    "from sklearn.metrics import roc_curve, auc\n",
    "\n",
    "#print (auc(y_test, preds))\n",
    "fpr, tpr, _ = roc_curve(y_test, preds)\n",
    "roc_auc = auc(fpr, tpr)\n",
    "print('AUC:', np.round(roc_auc,2))"
   ]
  },
  {
   "cell_type": "code",
   "execution_count": 12,
   "metadata": {},
   "outputs": [
    {
     "data": {
      "text/html": [
       "<div>\n",
       "<style scoped>\n",
       "    .dataframe tbody tr th:only-of-type {\n",
       "        vertical-align: middle;\n",
       "    }\n",
       "\n",
       "    .dataframe tbody tr th {\n",
       "        vertical-align: top;\n",
       "    }\n",
       "\n",
       "    .dataframe thead th {\n",
       "        text-align: right;\n",
       "    }\n",
       "</style>\n",
       "<table border=\"1\" class=\"dataframe\">\n",
       "  <thead>\n",
       "    <tr style=\"text-align: right;\">\n",
       "      <th></th>\n",
       "      <th>feature</th>\n",
       "      <th>importance</th>\n",
       "    </tr>\n",
       "  </thead>\n",
       "  <tbody>\n",
       "    <tr>\n",
       "      <th>0</th>\n",
       "      <td>mag_avg_20</td>\n",
       "      <td>621</td>\n",
       "    </tr>\n",
       "    <tr>\n",
       "      <th>1</th>\n",
       "      <td>depth_avg_20</td>\n",
       "      <td>456</td>\n",
       "    </tr>\n",
       "    <tr>\n",
       "      <th>2</th>\n",
       "      <td>mag_avg_5</td>\n",
       "      <td>449</td>\n",
       "    </tr>\n",
       "    <tr>\n",
       "      <th>3</th>\n",
       "      <td>depth_avg_10</td>\n",
       "      <td>406</td>\n",
       "    </tr>\n",
       "    <tr>\n",
       "      <th>4</th>\n",
       "      <td>mag_avg_10</td>\n",
       "      <td>402</td>\n",
       "    </tr>\n",
       "    <tr>\n",
       "      <th>5</th>\n",
       "      <td>depth_avg_5</td>\n",
       "      <td>362</td>\n",
       "    </tr>\n",
       "    <tr>\n",
       "      <th>6</th>\n",
       "      <td>depth</td>\n",
       "      <td>181</td>\n",
       "    </tr>\n",
       "  </tbody>\n",
       "</table>\n",
       "</div>"
      ],
      "text/plain": [
       "        feature  importance\n",
       "0    mag_avg_20         621\n",
       "1  depth_avg_20         456\n",
       "2     mag_avg_5         449\n",
       "3  depth_avg_10         406\n",
       "4    mag_avg_10         402\n",
       "5   depth_avg_5         362\n",
       "6         depth         181"
      ]
     },
     "execution_count": 12,
     "metadata": {},
     "output_type": "execute_result"
    }
   ],
   "source": [
    "def get_xgb_imp(xgb, feat_names):\n",
    "    imp_vals = xgb.get_fscore()\n",
    "    feats_imp = pd.DataFrame(imp_vals,index=np.arange(2)).T\n",
    "    feats_imp.iloc[:,0]= feats_imp.index    \n",
    "    feats_imp.columns=['feature','importance']\n",
    "    feats_imp.sort_values('importance',inplace=True,ascending=False)\n",
    "    feats_imp.reset_index(drop=True,inplace=True)\n",
    "    return feats_imp\n",
    "\n",
    "feature_importance_df = get_xgb_imp(bst, features)\n",
    "feature_importance_df"
   ]
  },
  {
   "cell_type": "code",
   "execution_count": 13,
   "metadata": {},
   "outputs": [
    {
     "data": {
      "image/png": "[encoded data removed]",
      "text/plain": [
       "<Figure size 432x288 with 1 Axes>"
      ]
     },
     "metadata": {
      "needs_background": "light"
     },
     "output_type": "display_data"
    }
   ],
   "source": [
    "# train on live data\n",
    "dlive = xgb.DMatrix(eq_data_last_days_out[features]) #, label=[])\n",
    "preds = bst.predict(dlive)\n",
    "\n",
    "plt.plot(preds)\n",
    "plt.show()"
   ]
  },
  {
   "cell_type": "code",
   "execution_count": 14,
   "metadata": {},
   "outputs": [
    {
     "data": {
      "text/html": [
       "<div>\n",
       "<style scoped>\n",
       "    .dataframe tbody tr th:only-of-type {\n",
       "        vertical-align: middle;\n",
       "    }\n",
       "\n",
       "    .dataframe tbody tr th {\n",
       "        vertical-align: top;\n",
       "    }\n",
       "\n",
       "    .dataframe thead th {\n",
       "        text-align: right;\n",
       "    }\n",
       "</style>\n",
       "<table border=\"1\" class=\"dataframe\">\n",
       "  <thead>\n",
       "    <tr style=\"text-align: right;\">\n",
       "      <th></th>\n",
       "      <th>date</th>\n",
       "      <th>place</th>\n",
       "      <th>latitude</th>\n",
       "      <th>longitude</th>\n",
       "      <th>quake</th>\n",
       "    </tr>\n",
       "  </thead>\n",
       "  <tbody>\n",
       "    <tr>\n",
       "      <th>0</th>\n",
       "      <td>2020-02-06</td>\n",
       "      <td>Cayman Islands</td>\n",
       "      <td>18.924696</td>\n",
       "      <td>-80.774764</td>\n",
       "      <td>0.999629</td>\n",
       "    </tr>\n",
       "    <tr>\n",
       "      <th>1</th>\n",
       "      <td>2020-02-07</td>\n",
       "      <td>Cayman Islands</td>\n",
       "      <td>18.924696</td>\n",
       "      <td>-80.774764</td>\n",
       "      <td>0.999629</td>\n",
       "    </tr>\n",
       "    <tr>\n",
       "      <th>2</th>\n",
       "      <td>2020-02-12</td>\n",
       "      <td>Greece</td>\n",
       "      <td>35.755330</td>\n",
       "      <td>26.602851</td>\n",
       "      <td>0.999519</td>\n",
       "    </tr>\n",
       "    <tr>\n",
       "      <th>3</th>\n",
       "      <td>2020-02-14</td>\n",
       "      <td>Dominican Republic</td>\n",
       "      <td>19.051193</td>\n",
       "      <td>-68.028846</td>\n",
       "      <td>0.999214</td>\n",
       "    </tr>\n",
       "    <tr>\n",
       "      <th>4</th>\n",
       "      <td>2020-02-15</td>\n",
       "      <td>Greece</td>\n",
       "      <td>35.755330</td>\n",
       "      <td>26.602851</td>\n",
       "      <td>0.999649</td>\n",
       "    </tr>\n",
       "  </tbody>\n",
       "</table>\n",
       "</div>"
      ],
      "text/plain": [
       "        date               place   latitude  longitude     quake\n",
       "0 2020-02-06      Cayman Islands  18.924696 -80.774764  0.999629\n",
       "1 2020-02-07      Cayman Islands  18.924696 -80.774764  0.999629\n",
       "2 2020-02-12              Greece  35.755330  26.602851  0.999519\n",
       "3 2020-02-14  Dominican Republic  19.051193 -68.028846  0.999214\n",
       "4 2020-02-15              Greece  35.755330  26.602851  0.999649"
      ]
     },
     "execution_count": 14,
     "metadata": {},
     "output_type": "execute_result"
    }
   ],
   "source": [
    "live_set = eq_data_last_days_out[['date', 'place', 'latitude', 'longitude']]\n",
    "live_set.loc[:,'quake'] = preds\n",
    "# aggregate down dups\n",
    "live_set = live_set.groupby(['date', 'place'], as_index=False).mean()\n",
    "\n",
    "# increment date to include DAYS_OUT_TO_PREDICT\n",
    "live_set['date']= pd.to_datetime(live_set['date'],format='%Y-%m-%d') \n",
    "live_set['date'] = live_set['date'] + pd.to_timedelta(DAYS_OUT_TO_PREDICT,unit='d')\n",
    "\n",
    "live_set.head()"
   ]
  },
  {
   "cell_type": "code",
   "execution_count": 15,
   "metadata": {},
   "outputs": [],
   "source": [
    "# see how our map will look using probability intensities\n",
    "days = list(set([d for d in live_set['date'].astype(str) if d > dt.datetime.today().strftime('%Y-%m-%d')]))\n",
    "days.sort()\n",
    "days\n",
    "\n",
    "predict_day = days[1]"
   ]
  },
  {
   "cell_type": "code",
   "execution_count": 16,
   "metadata": {},
   "outputs": [
    {
     "data": {
      "image/png": "[encoded data removed]",
      "text/plain": [
       "<Figure size 432x288 with 1 Axes>"
      ]
     },
     "metadata": {
      "needs_background": "light"
     },
     "output_type": "display_data"
    }
   ],
   "source": [
    "live_set_tmp = live_set[live_set['date'] == predict_day]\n",
    "plt.scatter(live_set_tmp['longitude'], \n",
    "         live_set_tmp['latitude'], s=(live_set_tmp['quake'] * 100))\n",
    "plt.suptitle('Future Earthquakes for ' + predict_day)\n",
    "plt.xlabel('Longitude')\n",
    "plt.ylabel('Latitude')\n",
    "plt.grid()\n",
    "plt.show()"
   ]
  },
  {
   "cell_type": "code",
   "execution_count": 17,
   "metadata": {},
   "outputs": [
    {
     "data": {
      "text/html": [
       "<div>\n",
       "<style scoped>\n",
       "    .dataframe tbody tr th:only-of-type {\n",
       "        vertical-align: middle;\n",
       "    }\n",
       "\n",
       "    .dataframe tbody tr th {\n",
       "        vertical-align: top;\n",
       "    }\n",
       "\n",
       "    .dataframe thead th {\n",
       "        text-align: right;\n",
       "    }\n",
       "</style>\n",
       "<table border=\"1\" class=\"dataframe\">\n",
       "  <thead>\n",
       "    <tr style=\"text-align: right;\">\n",
       "      <th></th>\n",
       "      <th>date</th>\n",
       "      <th>place</th>\n",
       "      <th>latitude</th>\n",
       "      <th>longitude</th>\n",
       "      <th>preds</th>\n",
       "    </tr>\n",
       "  </thead>\n",
       "  <tbody>\n",
       "    <tr>\n",
       "      <th>66</th>\n",
       "      <td>2020-03-02</td>\n",
       "      <td>Puerto Rico</td>\n",
       "      <td>17.995972</td>\n",
       "      <td>-66.914092</td>\n",
       "      <td>0.834540</td>\n",
       "    </tr>\n",
       "    <tr>\n",
       "      <th>67</th>\n",
       "      <td>2020-03-02</td>\n",
       "      <td>Texas</td>\n",
       "      <td>31.421990</td>\n",
       "      <td>-103.663905</td>\n",
       "      <td>0.996118</td>\n",
       "    </tr>\n",
       "    <tr>\n",
       "      <th>68</th>\n",
       "      <td>2020-03-02</td>\n",
       "      <td>Utah</td>\n",
       "      <td>39.154341</td>\n",
       "      <td>-112.288092</td>\n",
       "      <td>0.000018</td>\n",
       "    </tr>\n",
       "    <tr>\n",
       "      <th>69</th>\n",
       "      <td>2020-03-02</td>\n",
       "      <td>Washington</td>\n",
       "      <td>47.124280</td>\n",
       "      <td>-121.790372</td>\n",
       "      <td>0.002556</td>\n",
       "    </tr>\n",
       "    <tr>\n",
       "      <th>70</th>\n",
       "      <td>2020-03-02</td>\n",
       "      <td>Wyoming</td>\n",
       "      <td>44.331416</td>\n",
       "      <td>-110.647182</td>\n",
       "      <td>0.000006</td>\n",
       "    </tr>\n",
       "  </tbody>\n",
       "</table>\n",
       "</div>"
      ],
      "text/plain": [
       "         date        place   latitude   longitude     preds\n",
       "66 2020-03-02  Puerto Rico  17.995972  -66.914092  0.834540\n",
       "67 2020-03-02        Texas  31.421990 -103.663905  0.996118\n",
       "68 2020-03-02         Utah  39.154341 -112.288092  0.000018\n",
       "69 2020-03-02   Washington  47.124280 -121.790372  0.002556\n",
       "70 2020-03-02      Wyoming  44.331416 -110.647182  0.000006"
      ]
     },
     "execution_count": 17,
     "metadata": {},
     "output_type": "execute_result"
    }
   ],
   "source": [
    "import xgboost as xgb\n",
    "    \n",
    "def prepare_earthquake_data_and_model(days_out_to_predict = 5, max_depth=3, eta=0.1):\n",
    "    import pandas as pd\n",
    "    import numpy as np\n",
    "    # get latest data from USGS servers\n",
    "    df = pd.read_csv('https://earthquake.usgs.gov/earthquakes/feed/v1.0/summary/all_month.csv')\n",
    "    df = df.sort_values('time', ascending=True)\n",
    "    # truncate time from datetime\n",
    "    df['date'] = df['time'].str[0:10]\n",
    "    \n",
    "    # only keep the columns needed\n",
    "    df = df[['date', 'latitude', 'longitude', 'depth', 'mag', 'place']]\n",
    "    temp_df = df['place'].str.split(', ', expand=True) \n",
    "    df['place'] = temp_df[1]\n",
    "    df = df[['date', 'latitude', 'longitude', 'depth', 'mag', 'place']]\n",
    "\n",
    "    # calculate mean lat lon for simplified locations\n",
    "    df_coords = df[['place', 'latitude', 'longitude']]\n",
    "    df_coords = df_coords.groupby(['place'], as_index=False).mean()\n",
    "    df_coords = df_coords[['place', 'latitude', 'longitude']]\n",
    "\n",
    "    df = df[['date', 'depth', 'mag', 'place']]\n",
    "    df = pd.merge(left=df, right=df_coords, how='inner', on=['place'])\n",
    "    \n",
    "    # loop through each zone and apply MA\n",
    "    eq_data = []\n",
    "    df_live = []\n",
    "    for symbol in list(set(df['place'])):\n",
    "        temp_df = df[df['place'] == symbol].copy()\n",
    "        temp_df['depth_avg_20'] = temp_df['depth'].rolling(window=20,center=False).mean() \n",
    "        temp_df['depth_avg_10'] = temp_df['depth'].rolling(window=10,center=False).mean()\n",
    "        temp_df['depth_avg_5'] = temp_df['depth'].rolling(window=5,center=False).mean()\n",
    "        temp_df['mag_avg_20'] = temp_df['mag'].rolling(window=20,center=False).mean() \n",
    "        temp_df['mag_avg_10'] = temp_df['mag'].rolling(window=10,center=False).mean()\n",
    "        temp_df['mag_avg_5'] = temp_df['mag'].rolling(window=5,center=False).mean()\n",
    "        temp_df.loc[:, 'mag_outcome'] = temp_df.loc[:, 'mag_avg_5'].shift(days_out_to_predict * -1)\n",
    "\n",
    "        df_live.append(temp_df.tail(days_out_to_predict))\n",
    "\n",
    "        eq_data.append(temp_df)\n",
    "\n",
    "    # concat all location-based dataframes into master dataframe\n",
    "    df = pd.concat(eq_data)\n",
    "\n",
    "    # remove any NaN fields\n",
    "    df = df[np.isfinite(df['depth_avg_20'])]\n",
    "    df = df[np.isfinite(df['mag_avg_20'])]\n",
    "    df = df[np.isfinite(df['mag_outcome'])]\n",
    "\n",
    "    # prepare outcome variable\n",
    "    df['mag_outcome'] = np.where(df['mag_outcome'] > 2.5, 1,0)\n",
    " \n",
    "    df = df[['date',\n",
    "             'latitude',\n",
    "             'longitude',\n",
    "             'depth_avg_20',\n",
    "             'depth_avg_10',\n",
    "             'depth_avg_5',\n",
    "             'mag_avg_20', \n",
    "             'mag_avg_10',\n",
    "             'mag_avg_5',\n",
    "             'mag_outcome']]\n",
    "\n",
    "    # keep only data where we can make predictions\n",
    "    df_live = pd.concat(df_live)\n",
    "    df_live = df_live[np.isfinite(df_live['mag_avg_20'])]\n",
    "    \n",
    "    # let's train the model whenever the webserver is restarted\n",
    "    from sklearn.model_selection import train_test_split\n",
    "    features = [f for f in list(df) if f not in ['date', 'mag_outcome', 'latitude',\n",
    "     'longitude']]\n",
    "\n",
    "    X_train, X_test, y_train, y_test = train_test_split(df[features],\n",
    "                         df['mag_outcome'], test_size=0.3, random_state=42)\n",
    "\n",
    "    dtrain = xgb.DMatrix(X_train[features], label=y_train)\n",
    "    dtest = xgb.DMatrix(X_test[features], label=y_test)\n",
    "\n",
    "    param = {\n",
    "            'objective': 'binary:logistic',\n",
    "            'booster': 'gbtree',\n",
    "            'eval_metric': 'auc',\n",
    "            'max_depth': max_depth,  # the maximum depth of each tree\n",
    "            'eta': eta,  # the training step for each iteration\n",
    "            'silent': 1}  # logging mode - quiet}  # the number of classes that exist in this datset\n",
    "\n",
    "    num_round = 500  # the number of training iterations    \n",
    "    early_stopping_rounds=30\n",
    "    xgb_model = xgb.train(param, dtrain, num_round) \n",
    "    \n",
    "\n",
    "    # train on live data\n",
    "    dlive = xgb.DMatrix(df_live[features])  \n",
    "    preds = xgb_model.predict(dlive)\n",
    "\n",
    "    # add preds to live data\n",
    "    df_live = df_live[['date', 'place', 'latitude', 'longitude']]\n",
    "    \n",
    "    # add predictions back to dataset \n",
    "    df_live = df_live.assign(preds=pd.Series(preds).values)\n",
    "\n",
    "    # aggregate down dups\n",
    "    df_live = df_live.groupby(['date', 'place'], as_index=False).mean()\n",
    " \n",
    "    # increment date to include DAYS_OUT_TO_PREDICT\n",
    "    df_live['date']= pd.to_datetime(df_live['date'],format='%Y-%m-%d') \n",
    "    df_live['date'] = df_live['date'] + pd.to_timedelta(days_out_to_predict,unit='d')\n",
    "\n",
    "    return(df_live)\n",
    "\n",
    "df_live = prepare_earthquake_data_and_model()\n",
    "df_live.tail()"
   ]
  },
  {
   "cell_type": "code",
   "execution_count": 20,
   "metadata": {},
   "outputs": [
    {
     "data": {
      "text/plain": [
       "[Timestamp('2020-02-27 00:00:00')]"
      ]
     },
     "execution_count": 20,
     "metadata": {},
     "output_type": "execute_result"
    }
   ],
   "source": [
    "from datetime import datetime\n",
    "datetime_object = datetime.strptime(\"02/27/2020\", '%m/%d/%Y')\n",
    "list(set([d for d in df_live['date'] if d == datetime_object]))"
   ]
  },
  {
   "cell_type": "code",
   "execution_count": 21,
   "metadata": {},
   "outputs": [
    {
     "data": {
      "text/plain": [
       "'new google.maps.LatLng(-26.180206249999998,-70.75349062499998),new google.maps.LatLng(-3.554552688172042,124.11368494623656),new google.maps.LatLng(33.721791836734695,140.76126530612245),new google.maps.LatLng(38.59848787878788,37.96097575757576),'"
      ]
     },
     "execution_count": 21,
     "metadata": {},
     "output_type": "execute_result"
    }
   ],
   "source": [
    "def get_earth_quake_estimates(desired_date, df_live):\n",
    "    from datetime import datetime\n",
    "    datetime_object = desired_date #datetime.strptime(desired_date, '%m/%d/%Y')\n",
    "    live_set_tmp = df_live[df_live['date'] == datetime_object]\n",
    "    \n",
    "    # format lat/lons like Google Maps expects\n",
    "    LatLngString = ''\n",
    "    if (len(live_set_tmp) > 0):\n",
    "        for lat, lon, pred in zip(live_set_tmp['latitude'], live_set_tmp['longitude'], live_set_tmp['preds']): \n",
    "            # this is the threshold of probability to decide what to show and what not to show\n",
    "            if (pred > 0.3):\n",
    "                LatLngString += \"new google.maps.LatLng(\" + str(lat) + \",\" + str(lon) + \"),\"\n",
    "        \n",
    "    return(LatLngString)\n",
    " \n",
    "get_earth_quake_estimates(datetime.strptime(\"02/29/2020\", '%m/%d/%Y'), df_live)"
   ]
  },
  {
   "cell_type": "code",
   "execution_count": 22,
   "metadata": {},
   "outputs": [
    {
     "data": {
      "image/png": "[encoded data removed]",
      "text/plain": [
       "<Figure size 432x288 with 1 Axes>"
      ]
     },
     "metadata": {
      "needs_background": "light"
     },
     "output_type": "display_data"
    }
   ],
   "source": [
    "# train on live data\n",
    "dlive = xgb.DMatrix(eq_data_last_days_out[features]) #, label=[])\n",
    "\n",
    "preds = bst.predict(dlive)\n",
    "# see how our map will look using probability intensities\n",
    "days = list(set([d for d in live_set['date'].astype(str) if d > dt.datetime.today().strftime('%Y-%m-%d')]))\n",
    "days.sort()\n",
    "predict_day = days[1]\n",
    "\n",
    "\n",
    "live_set_tmp = live_set[live_set['date'] == predict_day]\n",
    "plt.scatter(live_set_tmp['longitude'], \n",
    "         live_set_tmp['latitude'], s=(live_set_tmp['quake'] * 100))\n",
    "plt.suptitle('Future Earthquakes for ' + predict_day)\n",
    "plt.xlabel('Longitude')\n",
    "plt.ylabel('Latitude')\n",
    "plt.grid()\n",
    "plt.show()"
   ]
  },
  {
   "cell_type": "code",
   "execution_count": null,
   "metadata": {},
   "outputs": [],
   "source": []
  }
 ],
 "metadata": {
  "kernelspec": {
   "display_name": "Python 3",
   "language": "python",
   "name": "python3"
  },
  "language_info": {
   "codemirror_mode": {
    "name": "ipython",
    "version": 3
   },
   "file_extension": ".py",
   "mimetype": "text/x-python",
   "name": "python",
   "nbconvert_exporter": "python",
   "pygments_lexer": "ipython3",
   "version": "3.7.3"
  }
 },
 "nbformat": 4,
 "nbformat_minor": 2
}
