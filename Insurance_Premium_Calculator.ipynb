{
 "cells": [
  {
   "cell_type": "markdown",
   "metadata": {},
   "source": [
    "# Insurance Premium Calculator\n",
    "(using Chain Ladder method for loss development)"
   ]
  },
  {
   "cell_type": "code",
   "execution_count": 1,
   "metadata": {},
   "outputs": [],
   "source": [
    "import warnings\n",
    "warnings.filterwarnings('ignore')"
   ]
  },
  {
   "cell_type": "code",
   "execution_count": 33,
   "metadata": {},
   "outputs": [],
   "source": [
    "import pandas as pd\n",
    "import numpy as np"
   ]
  },
  {
   "cell_type": "markdown",
   "metadata": {},
   "source": [
    "Import CSV file with 5-years of loss development information (claim counts)"
   ]
  },
  {
   "cell_type": "code",
   "execution_count": 3,
   "metadata": {},
   "outputs": [],
   "source": [
    "data = pd.read_csv(\"sample_claim_data.csv\")"
   ]
  },
  {
   "cell_type": "code",
   "execution_count": 4,
   "metadata": {},
   "outputs": [],
   "source": [
    "data = data.iloc[:,1:]"
   ]
  },
  {
   "cell_type": "code",
   "execution_count": 5,
   "metadata": {},
   "outputs": [
    {
     "data": {
      "text/html": [
       "<div>\n",
       "<style scoped>\n",
       "    .dataframe tbody tr th:only-of-type {\n",
       "        vertical-align: middle;\n",
       "    }\n",
       "\n",
       "    .dataframe tbody tr th {\n",
       "        vertical-align: top;\n",
       "    }\n",
       "\n",
       "    .dataframe thead th {\n",
       "        text-align: right;\n",
       "    }\n",
       "</style>\n",
       "<table border=\"1\" class=\"dataframe\">\n",
       "  <thead>\n",
       "    <tr style=\"text-align: right;\">\n",
       "      <th></th>\n",
       "      <th>12_mos</th>\n",
       "      <th>24_mos</th>\n",
       "      <th>36_mos</th>\n",
       "      <th>48_mos</th>\n",
       "      <th>60_mos</th>\n",
       "      <th>72_mos</th>\n",
       "    </tr>\n",
       "  </thead>\n",
       "  <tbody>\n",
       "    <tr>\n",
       "      <th>0</th>\n",
       "      <td>242</td>\n",
       "      <td>384</td>\n",
       "      <td>496</td>\n",
       "      <td>496</td>\n",
       "      <td>496</td>\n",
       "      <td></td>\n",
       "    </tr>\n",
       "    <tr>\n",
       "      <th>1</th>\n",
       "      <td>278</td>\n",
       "      <td>366</td>\n",
       "      <td>467</td>\n",
       "      <td>467</td>\n",
       "      <td></td>\n",
       "      <td></td>\n",
       "    </tr>\n",
       "    <tr>\n",
       "      <th>2</th>\n",
       "      <td>310</td>\n",
       "      <td>412</td>\n",
       "      <td>532</td>\n",
       "      <td></td>\n",
       "      <td></td>\n",
       "      <td></td>\n",
       "    </tr>\n",
       "    <tr>\n",
       "      <th>3</th>\n",
       "      <td>434</td>\n",
       "      <td>592</td>\n",
       "      <td></td>\n",
       "      <td></td>\n",
       "      <td></td>\n",
       "      <td></td>\n",
       "    </tr>\n",
       "    <tr>\n",
       "      <th>4</th>\n",
       "      <td>483</td>\n",
       "      <td></td>\n",
       "      <td></td>\n",
       "      <td></td>\n",
       "      <td></td>\n",
       "      <td></td>\n",
       "    </tr>\n",
       "  </tbody>\n",
       "</table>\n",
       "</div>"
      ],
      "text/plain": [
       "   12_mos 24_mos 36_mos 48_mos 60_mos 72_mos\n",
       "0     242    384    496    496    496       \n",
       "1     278    366    467    467              \n",
       "2     310    412    532                     \n",
       "3     434    592                            \n",
       "4     483                                   "
      ]
     },
     "execution_count": 5,
     "metadata": {},
     "output_type": "execute_result"
    }
   ],
   "source": [
    "data.fillna(\"\")"
   ]
  },
  {
   "cell_type": "markdown",
   "metadata": {},
   "source": [
    "Develop Age to Age Loss Development factors"
   ]
  },
  {
   "cell_type": "code",
   "execution_count": 6,
   "metadata": {},
   "outputs": [],
   "source": [
    "age_to_age = {}\n",
    "for i in range(len(data.columns)-1):\n",
    "    age_to_age[str(data.columns[i] + \"->\" + data.columns[i+1])] = data.iloc[:,i+1] / data.iloc[:,i]"
   ]
  },
  {
   "cell_type": "code",
   "execution_count": 7,
   "metadata": {},
   "outputs": [],
   "source": [
    "loss_dev_factors = pd.DataFrame(age_to_age)"
   ]
  },
  {
   "cell_type": "code",
   "execution_count": 8,
   "metadata": {},
   "outputs": [
    {
     "data": {
      "text/html": [
       "<div>\n",
       "<style scoped>\n",
       "    .dataframe tbody tr th:only-of-type {\n",
       "        vertical-align: middle;\n",
       "    }\n",
       "\n",
       "    .dataframe tbody tr th {\n",
       "        vertical-align: top;\n",
       "    }\n",
       "\n",
       "    .dataframe thead th {\n",
       "        text-align: right;\n",
       "    }\n",
       "</style>\n",
       "<table border=\"1\" class=\"dataframe\">\n",
       "  <thead>\n",
       "    <tr style=\"text-align: right;\">\n",
       "      <th></th>\n",
       "      <th>12_mos-&gt;24_mos</th>\n",
       "      <th>24_mos-&gt;36_mos</th>\n",
       "      <th>36_mos-&gt;48_mos</th>\n",
       "      <th>48_mos-&gt;60_mos</th>\n",
       "      <th>60_mos-&gt;72_mos</th>\n",
       "    </tr>\n",
       "  </thead>\n",
       "  <tbody>\n",
       "    <tr>\n",
       "      <th>0</th>\n",
       "      <td>1.586777</td>\n",
       "      <td>1.29167</td>\n",
       "      <td>1</td>\n",
       "      <td>1</td>\n",
       "      <td></td>\n",
       "    </tr>\n",
       "    <tr>\n",
       "      <th>1</th>\n",
       "      <td>1.316547</td>\n",
       "      <td>1.27596</td>\n",
       "      <td>1</td>\n",
       "      <td></td>\n",
       "      <td></td>\n",
       "    </tr>\n",
       "    <tr>\n",
       "      <th>2</th>\n",
       "      <td>1.329032</td>\n",
       "      <td>1.29126</td>\n",
       "      <td></td>\n",
       "      <td></td>\n",
       "      <td></td>\n",
       "    </tr>\n",
       "    <tr>\n",
       "      <th>3</th>\n",
       "      <td>1.364055</td>\n",
       "      <td></td>\n",
       "      <td></td>\n",
       "      <td></td>\n",
       "      <td></td>\n",
       "    </tr>\n",
       "  </tbody>\n",
       "</table>\n",
       "</div>"
      ],
      "text/plain": [
       "   12_mos->24_mos 24_mos->36_mos 36_mos->48_mos 48_mos->60_mos 60_mos->72_mos\n",
       "0        1.586777        1.29167              1              1               \n",
       "1        1.316547        1.27596              1                              \n",
       "2        1.329032        1.29126                                             \n",
       "3        1.364055                                                            "
      ]
     },
     "execution_count": 8,
     "metadata": {},
     "output_type": "execute_result"
    }
   ],
   "source": [
    "loss_dev_factors.iloc[0:-1,:].fillna(\"\").replace([0, 0.0],\"\")"
   ]
  },
  {
   "cell_type": "markdown",
   "metadata": {},
   "source": [
    "Calculate average and weighted average factors"
   ]
  },
  {
   "cell_type": "code",
   "execution_count": 9,
   "metadata": {},
   "outputs": [],
   "source": [
    "avg_and_wavg_dict = {}\n",
    "\n",
    "for i in range(len(loss_dev_factors.columns)):\n",
    "    \n",
    "    avg_and_wavg_dict[str(loss_dev_factors.columns[i])] = [np.mean(loss_dev_factors.iloc[:,i]),np.sum(loss_dev_factors.iloc[:,i] / np.sum(loss_dev_factors.iloc[:,i]) * loss_dev_factors.iloc[:,i])]"
   ]
  },
  {
   "cell_type": "code",
   "execution_count": 10,
   "metadata": {},
   "outputs": [],
   "source": [
    "avg_and_wavg = pd.DataFrame(avg_and_wavg_dict)"
   ]
  },
  {
   "cell_type": "code",
   "execution_count": 11,
   "metadata": {},
   "outputs": [
    {
     "data": {
      "text/html": [
       "<div>\n",
       "<style scoped>\n",
       "    .dataframe tbody tr th:only-of-type {\n",
       "        vertical-align: middle;\n",
       "    }\n",
       "\n",
       "    .dataframe tbody tr th {\n",
       "        vertical-align: top;\n",
       "    }\n",
       "\n",
       "    .dataframe thead th {\n",
       "        text-align: right;\n",
       "    }\n",
       "</style>\n",
       "<table border=\"1\" class=\"dataframe\">\n",
       "  <thead>\n",
       "    <tr style=\"text-align: right;\">\n",
       "      <th></th>\n",
       "      <th>12_mos-&gt;24_mos</th>\n",
       "      <th>24_mos-&gt;36_mos</th>\n",
       "      <th>36_mos-&gt;48_mos</th>\n",
       "      <th>48_mos-&gt;60_mos</th>\n",
       "      <th>60_mos-&gt;72_mos</th>\n",
       "    </tr>\n",
       "  </thead>\n",
       "  <tbody>\n",
       "    <tr>\n",
       "      <th>0</th>\n",
       "      <td>1.399103</td>\n",
       "      <td>1.286295</td>\n",
       "      <td>1.0</td>\n",
       "      <td>1.0</td>\n",
       "      <td></td>\n",
       "    </tr>\n",
       "    <tr>\n",
       "      <th>1</th>\n",
       "      <td>1.407711</td>\n",
       "      <td>1.286337</td>\n",
       "      <td>1.0</td>\n",
       "      <td>1.0</td>\n",
       "      <td></td>\n",
       "    </tr>\n",
       "  </tbody>\n",
       "</table>\n",
       "</div>"
      ],
      "text/plain": [
       "   12_mos->24_mos  24_mos->36_mos  36_mos->48_mos  48_mos->60_mos  \\\n",
       "0        1.399103        1.286295             1.0             1.0   \n",
       "1        1.407711        1.286337             1.0             1.0   \n",
       "\n",
       "  60_mos->72_mos  \n",
       "0                 \n",
       "1                 "
      ]
     },
     "execution_count": 11,
     "metadata": {},
     "output_type": "execute_result"
    }
   ],
   "source": [
    "avg_and_wavg.fillna(\"\").replace([0, 0.0],\"\")"
   ]
  },
  {
   "cell_type": "markdown",
   "metadata": {},
   "source": [
    "Select loss dev factors to be used "
   ]
  },
  {
   "cell_type": "code",
   "execution_count": 12,
   "metadata": {},
   "outputs": [],
   "source": [
    "selection = 0"
   ]
  },
  {
   "cell_type": "code",
   "execution_count": 13,
   "metadata": {},
   "outputs": [],
   "source": [
    "if selection == 0:\n",
    "    sel_factors = avg_and_wavg.iloc[0,:]\n",
    "    sel_factors.fillna(1.00, inplace=True)\n",
    "    sel_factors.replace([0,0.0],1.00,inplace=True)\n",
    "    sel_factors = pd.DataFrame(sel_factors)\n",
    "    sel_factors = sel_factors.transpose()\n",
    "elif selection == 1:\n",
    "    sel_factors = avg_and_wavg.iloc[1,:]\n",
    "    sel_factors.fillna(1.00, inplace=True)\n",
    "    sel_factors.replace([0,0.0],1.00,inplace=True)\n",
    "    sel_factors = pd.DataFrame(sel_factors)\n",
    "    sel_factors = sel_factors.transpose()"
   ]
  },
  {
   "cell_type": "code",
   "execution_count": 14,
   "metadata": {},
   "outputs": [
    {
     "data": {
      "text/html": [
       "<div>\n",
       "<style scoped>\n",
       "    .dataframe tbody tr th:only-of-type {\n",
       "        vertical-align: middle;\n",
       "    }\n",
       "\n",
       "    .dataframe tbody tr th {\n",
       "        vertical-align: top;\n",
       "    }\n",
       "\n",
       "    .dataframe thead th {\n",
       "        text-align: right;\n",
       "    }\n",
       "</style>\n",
       "<table border=\"1\" class=\"dataframe\">\n",
       "  <thead>\n",
       "    <tr style=\"text-align: right;\">\n",
       "      <th></th>\n",
       "      <th>12_mos-&gt;24_mos</th>\n",
       "      <th>24_mos-&gt;36_mos</th>\n",
       "      <th>36_mos-&gt;48_mos</th>\n",
       "      <th>48_mos-&gt;60_mos</th>\n",
       "      <th>60_mos-&gt;72_mos</th>\n",
       "    </tr>\n",
       "  </thead>\n",
       "  <tbody>\n",
       "    <tr>\n",
       "      <th>0</th>\n",
       "      <td>1.399103</td>\n",
       "      <td>1.286295</td>\n",
       "      <td>1.0</td>\n",
       "      <td>1.0</td>\n",
       "      <td>1.0</td>\n",
       "    </tr>\n",
       "  </tbody>\n",
       "</table>\n",
       "</div>"
      ],
      "text/plain": [
       "   12_mos->24_mos  24_mos->36_mos  36_mos->48_mos  48_mos->60_mos  \\\n",
       "0        1.399103        1.286295             1.0             1.0   \n",
       "\n",
       "   60_mos->72_mos  \n",
       "0             1.0  "
      ]
     },
     "execution_count": 14,
     "metadata": {},
     "output_type": "execute_result"
    }
   ],
   "source": [
    "sel_factors"
   ]
  },
  {
   "cell_type": "markdown",
   "metadata": {},
   "source": [
    "Calculate cumulative factors (to ultimate)"
   ]
  },
  {
   "cell_type": "code",
   "execution_count": 15,
   "metadata": {},
   "outputs": [],
   "source": [
    "cumulative = {}\n",
    "for i in range(len(sel_factors.columns)):\n",
    "    cumulative[str(sel_factors.columns[i].split(\"->\")[0] + \"_to_Ult\")] = [np.prod(sel_factors.iloc[0,i:])]"
   ]
  },
  {
   "cell_type": "code",
   "execution_count": 16,
   "metadata": {},
   "outputs": [],
   "source": [
    "cumulative_factors = pd.DataFrame(cumulative)"
   ]
  },
  {
   "cell_type": "code",
   "execution_count": 17,
   "metadata": {},
   "outputs": [
    {
     "data": {
      "text/html": [
       "<div>\n",
       "<style scoped>\n",
       "    .dataframe tbody tr th:only-of-type {\n",
       "        vertical-align: middle;\n",
       "    }\n",
       "\n",
       "    .dataframe tbody tr th {\n",
       "        vertical-align: top;\n",
       "    }\n",
       "\n",
       "    .dataframe thead th {\n",
       "        text-align: right;\n",
       "    }\n",
       "</style>\n",
       "<table border=\"1\" class=\"dataframe\">\n",
       "  <thead>\n",
       "    <tr style=\"text-align: right;\">\n",
       "      <th></th>\n",
       "      <th>12_mos_to_Ult</th>\n",
       "      <th>24_mos_to_Ult</th>\n",
       "      <th>36_mos_to_Ult</th>\n",
       "      <th>48_mos_to_Ult</th>\n",
       "      <th>60_mos_to_Ult</th>\n",
       "    </tr>\n",
       "  </thead>\n",
       "  <tbody>\n",
       "    <tr>\n",
       "      <th>0</th>\n",
       "      <td>1.799659</td>\n",
       "      <td>1.286295</td>\n",
       "      <td>1.0</td>\n",
       "      <td>1.0</td>\n",
       "      <td>1.0</td>\n",
       "    </tr>\n",
       "  </tbody>\n",
       "</table>\n",
       "</div>"
      ],
      "text/plain": [
       "   12_mos_to_Ult  24_mos_to_Ult  36_mos_to_Ult  48_mos_to_Ult  60_mos_to_Ult\n",
       "0       1.799659       1.286295            1.0            1.0            1.0"
      ]
     },
     "execution_count": 17,
     "metadata": {},
     "output_type": "execute_result"
    }
   ],
   "source": [
    "cumulative_factors"
   ]
  },
  {
   "cell_type": "markdown",
   "metadata": {},
   "source": [
    "Import CSV file with additional information (policy count/total claims)"
   ]
  },
  {
   "cell_type": "code",
   "execution_count": 18,
   "metadata": {},
   "outputs": [],
   "source": [
    "data_2 = pd.read_csv(\"sample_addtl_info.csv\")"
   ]
  },
  {
   "cell_type": "code",
   "execution_count": 19,
   "metadata": {},
   "outputs": [
    {
     "data": {
      "text/html": [
       "<div>\n",
       "<style scoped>\n",
       "    .dataframe tbody tr th:only-of-type {\n",
       "        vertical-align: middle;\n",
       "    }\n",
       "\n",
       "    .dataframe tbody tr th {\n",
       "        vertical-align: top;\n",
       "    }\n",
       "\n",
       "    .dataframe thead th {\n",
       "        text-align: right;\n",
       "    }\n",
       "</style>\n",
       "<table border=\"1\" class=\"dataframe\">\n",
       "  <thead>\n",
       "    <tr style=\"text-align: right;\">\n",
       "      <th></th>\n",
       "      <th>Year</th>\n",
       "      <th>pol_count</th>\n",
       "      <th>tot_clm_amt</th>\n",
       "    </tr>\n",
       "  </thead>\n",
       "  <tbody>\n",
       "    <tr>\n",
       "      <th>0</th>\n",
       "      <td>1</td>\n",
       "      <td>8613</td>\n",
       "      <td>5028600</td>\n",
       "    </tr>\n",
       "    <tr>\n",
       "      <th>1</th>\n",
       "      <td>2</td>\n",
       "      <td>12712</td>\n",
       "      <td>5851530</td>\n",
       "    </tr>\n",
       "    <tr>\n",
       "      <th>2</th>\n",
       "      <td>3</td>\n",
       "      <td>16446</td>\n",
       "      <td>9830106</td>\n",
       "    </tr>\n",
       "    <tr>\n",
       "      <th>3</th>\n",
       "      <td>4</td>\n",
       "      <td>17452</td>\n",
       "      <td>10362368</td>\n",
       "    </tr>\n",
       "    <tr>\n",
       "      <th>4</th>\n",
       "      <td>5</td>\n",
       "      <td>18812</td>\n",
       "      <td>10506240</td>\n",
       "    </tr>\n",
       "  </tbody>\n",
       "</table>\n",
       "</div>"
      ],
      "text/plain": [
       "   Year  pol_count  tot_clm_amt\n",
       "0     1       8613      5028600\n",
       "1     2      12712      5851530\n",
       "2     3      16446      9830106\n",
       "3     4      17452     10362368\n",
       "4     5      18812     10506240"
      ]
     },
     "execution_count": 19,
     "metadata": {},
     "output_type": "execute_result"
    }
   ],
   "source": [
    "data_2"
   ]
  },
  {
   "cell_type": "markdown",
   "metadata": {},
   "source": [
    "Calculate indicated ultimate, frequency, and severity (average claim amount)"
   ]
  },
  {
   "cell_type": "code",
   "execution_count": 20,
   "metadata": {},
   "outputs": [],
   "source": [
    "freq_sev_dict = {\"maturity\":[], \"clm_count\":[], \"sel_fact_to_ult\":[], \"ind_ult\":[], \"pol_count\":[], \"frequency\":[], \"severity\":[]}\n",
    "            \n",
    "for i in range(len(data.columns)-1):\n",
    "    freq_sev_dict[\"maturity\"].append(data.columns[-2-i])\n",
    "    freq_sev_dict[\"clm_count\"].append(data.iloc[i,-2-i])\n",
    "    freq_sev_dict[\"sel_fact_to_ult\"].append(cumulative_factors.iloc[0,-1-i])\n",
    "    freq_sev_dict[\"ind_ult\"].append(freq_sev_dict[\"clm_count\"][i]*freq_sev_dict[\"sel_fact_to_ult\"][i])\n",
    "    freq_sev_dict[\"pol_count\"].append(data_2.iloc[i,1])\n",
    "    freq_sev_dict[\"frequency\"].append(freq_sev_dict[\"ind_ult\"][i]/freq_sev_dict[\"pol_count\"][i])\n",
    "    freq_sev_dict[\"severity\"].append(data_2.iloc[i,2]/freq_sev_dict[\"clm_count\"][i])"
   ]
  },
  {
   "cell_type": "code",
   "execution_count": 21,
   "metadata": {},
   "outputs": [],
   "source": [
    "freq_sev = pd.DataFrame(freq_sev_dict)"
   ]
  },
  {
   "cell_type": "code",
   "execution_count": 22,
   "metadata": {
    "scrolled": true
   },
   "outputs": [
    {
     "data": {
      "text/html": [
       "<div>\n",
       "<style scoped>\n",
       "    .dataframe tbody tr th:only-of-type {\n",
       "        vertical-align: middle;\n",
       "    }\n",
       "\n",
       "    .dataframe tbody tr th {\n",
       "        vertical-align: top;\n",
       "    }\n",
       "\n",
       "    .dataframe thead th {\n",
       "        text-align: right;\n",
       "    }\n",
       "</style>\n",
       "<table border=\"1\" class=\"dataframe\">\n",
       "  <thead>\n",
       "    <tr style=\"text-align: right;\">\n",
       "      <th></th>\n",
       "      <th>maturity</th>\n",
       "      <th>clm_count</th>\n",
       "      <th>sel_fact_to_ult</th>\n",
       "      <th>ind_ult</th>\n",
       "      <th>pol_count</th>\n",
       "      <th>frequency</th>\n",
       "      <th>severity</th>\n",
       "    </tr>\n",
       "  </thead>\n",
       "  <tbody>\n",
       "    <tr>\n",
       "      <th>0</th>\n",
       "      <td>60_mos</td>\n",
       "      <td>496.0</td>\n",
       "      <td>1.000000</td>\n",
       "      <td>496.000000</td>\n",
       "      <td>8613</td>\n",
       "      <td>0.057587</td>\n",
       "      <td>10138.306452</td>\n",
       "    </tr>\n",
       "    <tr>\n",
       "      <th>1</th>\n",
       "      <td>48_mos</td>\n",
       "      <td>467.0</td>\n",
       "      <td>1.000000</td>\n",
       "      <td>467.000000</td>\n",
       "      <td>12712</td>\n",
       "      <td>0.036737</td>\n",
       "      <td>12530.042827</td>\n",
       "    </tr>\n",
       "    <tr>\n",
       "      <th>2</th>\n",
       "      <td>36_mos</td>\n",
       "      <td>532.0</td>\n",
       "      <td>1.000000</td>\n",
       "      <td>532.000000</td>\n",
       "      <td>16446</td>\n",
       "      <td>0.032348</td>\n",
       "      <td>18477.642857</td>\n",
       "    </tr>\n",
       "    <tr>\n",
       "      <th>3</th>\n",
       "      <td>24_mos</td>\n",
       "      <td>592.0</td>\n",
       "      <td>1.286295</td>\n",
       "      <td>761.486657</td>\n",
       "      <td>17452</td>\n",
       "      <td>0.043633</td>\n",
       "      <td>17504.000000</td>\n",
       "    </tr>\n",
       "    <tr>\n",
       "      <th>4</th>\n",
       "      <td>12_mos</td>\n",
       "      <td>483.0</td>\n",
       "      <td>1.799659</td>\n",
       "      <td>869.235283</td>\n",
       "      <td>18812</td>\n",
       "      <td>0.046206</td>\n",
       "      <td>21752.049689</td>\n",
       "    </tr>\n",
       "  </tbody>\n",
       "</table>\n",
       "</div>"
      ],
      "text/plain": [
       "  maturity  clm_count  sel_fact_to_ult     ind_ult  pol_count  frequency  \\\n",
       "0   60_mos      496.0         1.000000  496.000000       8613   0.057587   \n",
       "1   48_mos      467.0         1.000000  467.000000      12712   0.036737   \n",
       "2   36_mos      532.0         1.000000  532.000000      16446   0.032348   \n",
       "3   24_mos      592.0         1.286295  761.486657      17452   0.043633   \n",
       "4   12_mos      483.0         1.799659  869.235283      18812   0.046206   \n",
       "\n",
       "       severity  \n",
       "0  10138.306452  \n",
       "1  12530.042827  \n",
       "2  18477.642857  \n",
       "3  17504.000000  \n",
       "4  21752.049689  "
      ]
     },
     "execution_count": 22,
     "metadata": {},
     "output_type": "execute_result"
    }
   ],
   "source": [
    "freq_sev"
   ]
  },
  {
   "cell_type": "markdown",
   "metadata": {},
   "source": [
    "Calculate Loss Cost (using 5-year average frequency and severity)"
   ]
  },
  {
   "cell_type": "code",
   "execution_count": 23,
   "metadata": {},
   "outputs": [],
   "source": [
    "loss_cost = np.mean(freq_sev[\"frequency\"] * np.mean(freq_sev[\"severity\"]))"
   ]
  },
  {
   "cell_type": "code",
   "execution_count": 24,
   "metadata": {},
   "outputs": [
    {
     "data": {
      "text/plain": [
       "696.3210133027999"
      ]
     },
     "execution_count": 24,
     "metadata": {},
     "output_type": "execute_result"
    }
   ],
   "source": [
    "loss_cost"
   ]
  },
  {
   "cell_type": "markdown",
   "metadata": {},
   "source": [
    "Input Underwriting Profit and Underwriting Expenses (as % of Premium)"
   ]
  },
  {
   "cell_type": "code",
   "execution_count": 28,
   "metadata": {},
   "outputs": [],
   "source": [
    "uw_profit = 0.10\n",
    "uw_expense = 0.15"
   ]
  },
  {
   "cell_type": "markdown",
   "metadata": {},
   "source": [
    "Calculate Final Premium"
   ]
  },
  {
   "cell_type": "code",
   "execution_count": 29,
   "metadata": {},
   "outputs": [],
   "source": [
    "premium = loss_cost * (1/(1-uw_profit)) * (1/(1-uw_expense))"
   ]
  },
  {
   "cell_type": "code",
   "execution_count": 32,
   "metadata": {},
   "outputs": [
    {
     "name": "stdout",
     "output_type": "stream",
     "text": [
      "$910.22\n"
     ]
    }
   ],
   "source": [
    "print(\"$\",round(premium,2),sep=\"\")"
   ]
  }
 ],
 "metadata": {
  "kernelspec": {
   "display_name": "Python 3",
   "language": "python",
   "name": "python3"
  },
  "language_info": {
   "codemirror_mode": {
    "name": "ipython",
    "version": 3
   },
   "file_extension": ".py",
   "mimetype": "text/x-python",
   "name": "python",
   "nbconvert_exporter": "python",
   "pygments_lexer": "ipython3",
   "version": "3.7.3"
  }
 },
 "nbformat": 4,
 "nbformat_minor": 2
}
